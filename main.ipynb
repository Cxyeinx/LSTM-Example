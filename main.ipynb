{
 "cells": [
  {
   "cell_type": "code",
   "execution_count": 1,
   "id": "practical-american",
   "metadata": {},
   "outputs": [],
   "source": [
    "import numpy as np\n",
    "from sklearn.model_selection import train_test_split\n",
    "from tensorflow.keras.models import Sequential\n",
    "from tensorflow.keras.layers import LSTM, Dropout, BatchNormalization, Flatten, Dense\n",
    "from tensorflow.nn import relu, sigmoid\n",
    "import matplotlib.pyplot as plt"
   ]
  },
  {
   "cell_type": "code",
   "execution_count": 2,
   "id": "intelligent-sacramento",
   "metadata": {},
   "outputs": [],
   "source": [
    "x = [ [ [i + j] for i in range(5)] for j in range(100_000) ]\n",
    "y = [i+5 for i in range(100_000)]"
   ]
  },
  {
   "cell_type": "code",
   "execution_count": 3,
   "id": "restricted-invasion",
   "metadata": {},
   "outputs": [
    {
     "name": "stdout",
     "output_type": "stream",
     "text": [
      "(100000, 5, 1) (100000,)\n"
     ]
    }
   ],
   "source": [
    "x = np.array(x)\n",
    "y = np.array(y)\n",
    "x = x / 100_000\n",
    "y = y / 100_000\n",
    "print(x.shape, y.shape)"
   ]
  },
  {
   "cell_type": "code",
   "execution_count": 4,
   "id": "transparent-practice",
   "metadata": {},
   "outputs": [],
   "source": [
    "x_train, x_test, y_train, y_test = train_test_split(x, y, test_size=0.2)"
   ]
  },
  {
   "cell_type": "code",
   "execution_count": 5,
   "id": "combined-nitrogen",
   "metadata": {},
   "outputs": [],
   "source": [
    "model = Sequential()\n",
    "\n",
    "model.add(LSTM(64, input_shape=(5,1), activation=relu, return_sequences=True))\n",
    "\n",
    "model.add(LSTM(128, activation=relu, return_sequences=True))\n",
    "model.add(Dropout(0.2))\n",
    "model.add(BatchNormalization())\n",
    "\n",
    "model.add(LSTM(64, activation=relu, return_sequences=True))\n",
    "model.add(BatchNormalization())\n",
    "\n",
    "model.add(LSTM(64, activation=relu, return_sequences=False))\n",
    "model.add(Dropout(0.2))\n",
    "\n",
    "model.add(Flatten())dsi\n",
    "model.add(Dense(1, activation=sigmoid))"
   ]
  },
  {
   "cell_type": "code",
   "execution_count": 6,
   "id": "average-template",
   "metadata": {},
   "outputs": [],
   "source": [
    "model.compile(loss=\"binary_crossentropy\", optimizer=\"adam\", metrics=[\"accuracy\"])"
   ]
  },
  {
   "cell_type": "code",
   "execution_count": 7,
   "id": "single-evidence",
   "metadata": {},
   "outputs": [
    {
     "name": "stdout",
     "output_type": "stream",
     "text": [
      "Epoch 1/10\n",
      "5000/5000 [==============================] - 49s 10ms/step - loss: 0.5024 - accuracy: 1.2500e-05 - val_loss: 0.5106 - val_accuracy: 0.0000e+00\n",
      "Epoch 2/10\n",
      "5000/5000 [==============================] - 46s 9ms/step - loss: 0.5001 - accuracy: 1.2500e-05 - val_loss: 0.5142 - val_accuracy: 0.0000e+00\n",
      "Epoch 3/10\n",
      "5000/5000 [==============================] - 50s 10ms/step - loss: 0.4999 - accuracy: 1.2500e-05 - val_loss: 0.5123 - val_accuracy: 0.0000e+00\n",
      "Epoch 4/10\n",
      "5000/5000 [==============================] - 46s 9ms/step - loss: 0.4998 - accuracy: 1.2500e-05 - val_loss: 0.5117 - val_accuracy: 0.0000e+00\n",
      "Epoch 5/10\n",
      "5000/5000 [==============================] - 49s 10ms/step - loss: 0.4997 - accuracy: 1.2500e-05 - val_loss: 0.5115 - val_accuracy: 0.0000e+00\n",
      "Epoch 6/10\n",
      "5000/5000 [==============================] - 44s 9ms/step - loss: 0.4997 - accuracy: 1.2500e-05 - val_loss: 0.5109 - val_accuracy: 0.0000e+00\n",
      "Epoch 7/10\n",
      "5000/5000 [==============================] - 45s 9ms/step - loss: 0.4996 - accuracy: 1.2500e-05 - val_loss: 0.5124 - val_accuracy: 0.0000e+00\n",
      "Epoch 8/10\n",
      "5000/5000 [==============================] - 48s 10ms/step - loss: 0.4996 - accuracy: 1.2500e-05 - val_loss: 0.5123 - val_accuracy: 0.0000e+00\n",
      "Epoch 9/10\n",
      "5000/5000 [==============================] - 57s 11ms/step - loss: 0.4996 - accuracy: 1.2500e-05 - val_loss: 0.5127 - val_accuracy: 0.0000e+00\n",
      "Epoch 10/10\n",
      "5000/5000 [==============================] - 53s 11ms/step - loss: 0.4996 - accuracy: 1.2500e-05 - val_loss: 0.5118 - val_accuracy: 0.0000e+00\n"
     ]
    },
    {
     "data": {
      "text/plain": [
       "<tensorflow.python.keras.callbacks.History at 0x7f69e3145d00>"
      ]
     },
     "execution_count": 7,
     "metadata": {},
     "output_type": "execute_result"
    }
   ],
   "source": [
    "model.fit(x_train, y_train, epochs=10, batch_size=16, validation_data=(x_test, y_test))"
   ]
  },
  {
   "cell_type": "code",
   "execution_count": 8,
   "id": "center-reference",
   "metadata": {},
   "outputs": [],
   "source": [
    "pred = model.predict(x_test[:20])"
   ]
  },
  {
   "cell_type": "code",
   "execution_count": 9,
   "id": "precious-handle",
   "metadata": {},
   "outputs": [
    {
     "data": {
      "image/png": "[encoded data removed]",
      "text/plain": [
       "<Figure size 432x288 with 1 Axes>"
      ]
     },
     "metadata": {
      "needs_background": "light"
     },
     "output_type": "display_data"
    }
   ],
   "source": [
    "plt.scatter(range(20), pred, color=\"r\")\n",
    "plt.scatter(range(20), y_test[:20], color=\"g\")\n",
    "plt.show()"
   ]
  },
  {
   "cell_type": "code",
   "execution_count": null,
   "id": "pretty-marks",
   "metadata": {},
   "outputs": [],
   "source": []
  }
 ],
 "metadata": {
  "kernelspec": {
   "display_name": "Python 3",
   "language": "python",
   "name": "python3"
  },
  "language_info": {
   "codemirror_mode": {
    "name": "ipython",
    "version": 3
   },
   "file_extension": ".py",
   "mimetype": "text/x-python",
   "name": "python",
   "nbconvert_exporter": "python",
   "pygments_lexer": "ipython3",
   "version": "3.8.5"
  }
 },
 "nbformat": 4,
 "nbformat_minor": 5
}
